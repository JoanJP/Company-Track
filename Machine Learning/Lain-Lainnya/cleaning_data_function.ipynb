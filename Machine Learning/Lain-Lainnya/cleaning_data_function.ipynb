{
 "cells": [
  {
   "cell_type": "code",
   "execution_count": 2,
   "metadata": {},
   "outputs": [],
   "source": [
    "import pandas as pd"
   ]
  },
  {
   "cell_type": "markdown",
   "metadata": {},
   "source": [
    "Cleaning Branch.csv"
   ]
  },
  {
   "cell_type": "code",
   "execution_count": 3,
   "metadata": {},
   "outputs": [],
   "source": [
    "df_branch = pd.read_csv('./Dataset/Branch.csv',sep=\";\") "
   ]
  },
  {
   "cell_type": "code",
   "execution_count": null,
   "metadata": {},
   "outputs": [],
   "source": [
    "def clean_data_branch(df_branch):\n",
    "    # Remove leading and trailing whitespace in columns: 'BranchId', 'BranchName'\n",
    "    df_branch['BranchId'] = df_branch['BranchId'].str.strip()\n",
    "    df_branch['BranchName'] = df_branch['BranchName'].str.strip()\n",
    "    # Rename column 'BranchId' to 'BranchID'\n",
    "    df_branch = df_branch.rename(columns={'BranchId': 'BranchID'})\n",
    "    df_branch['BranchID'] = df_branch['BranchID'].str.strip(';')\n",
    "    return df_branch"
   ]
  },
  {
   "cell_type": "markdown",
   "metadata": {},
   "source": [
    "Cleaning Item.csv"
   ]
  },
  {
   "cell_type": "code",
   "execution_count": 4,
   "metadata": {},
   "outputs": [],
   "source": [
    "df_item= pd.read_csv('./Dataset/Item.csv',sep=\";\") "
   ]
  },
  {
   "cell_type": "code",
   "execution_count": null,
   "metadata": {},
   "outputs": [],
   "source": [
    "def clean_data_item(df_item):\n",
    "    # Remove leading and trailing whitespace in columns: 'ItemId', 'ItemName', 'BaseUOM'\n",
    "    df_item['ItemId'] = df_item['ItemId'].str.strip()\n",
    "    df_item['ItemName'] = df_item['ItemName'].str.strip()\n",
    "    df_item['BaseUOM'] = df_item['BaseUOM'].str.strip()\n",
    "    # Rename column 'ItemId' to 'ItemID'\n",
    "    df_item = df_item.rename(columns={'ItemId': 'ItemID'})\n",
    "    df_item['ItemID'] = df_item['ItemID'].str.strip(';')\n",
    "    return df_item"
   ]
  },
  {
   "cell_type": "markdown",
   "metadata": {},
   "source": [
    "Cleaning Stock.csv"
   ]
  },
  {
   "cell_type": "code",
   "execution_count": 6,
   "metadata": {},
   "outputs": [],
   "source": [
    "df_stock= pd.read_csv('./Dataset/Stock.csv',sep=\";\") "
   ]
  },
  {
   "cell_type": "code",
   "execution_count": 7,
   "metadata": {},
   "outputs": [],
   "source": [
    "def clean_data_stock(df_stock):\n",
    "    # Remove leading and trailing whitespace in columns: 'BranchID', 'ItemID'\n",
    "    df_stock['BranchID'] = df_stock['BranchID'].str.strip()\n",
    "    df_stock['ItemID'] = df_stock['ItemID'].str.strip()\n",
    "    # Change column type to int64 for column: 'QtyAvailable'\n",
    "    df_stock = df_stock.astype({'QtyAvailable': 'int64'})\n",
    "    df_stock['BranchID'] = df_stock['BranchID'].str.strip(';')\n",
    "    df_stock['ItemID'] = df_stock['ItemID'].str.strip(';')\n",
    "    return df_stock"
   ]
  },
  {
   "cell_type": "markdown",
   "metadata": {},
   "source": [
    "Cleaning Order.csv"
   ]
  },
  {
   "cell_type": "code",
   "execution_count": null,
   "metadata": {},
   "outputs": [],
   "source": [
    "df_order = pd.read_csv('./Dataset/Order.csv',sep=\";\",low_memory=False) "
   ]
  },
  {
   "cell_type": "code",
   "execution_count": null,
   "metadata": {},
   "outputs": [],
   "source": [
    "def clean_data_order(df_order):\n",
    "    # Change column type to datetime64[ns] for columns: 'POSDate', 'POSDateTime'\n",
    "    df_order = df_order.astype({'POSDate': 'datetime64[ns]', 'POSDateTime': 'datetime64[ns]'})\n",
    "    # Change column type to int64 for columns: 'TotalDiscountAmount', 'TotalTaxAmount' and 3 other columns\n",
    "    df_order = df_order.astype({'TotalDiscountAmount': 'int64', 'TotalTaxAmount': 'int64', 'TotalTransaction': 'int64', 'Payment': 'int64', 'Change': 'int64'})\n",
    "    # Remove leading and trailing whitespace in columns: 'POSNo', 'BranchId'\n",
    "    df_order['POSNo'] = df_order['POSNo'].str.strip()\n",
    "    df_order['BranchId'] = df_order['BranchId'].str.strip()\n",
    "    # Rename column 'BranchId' to 'BranchID'\n",
    "    df_order = df_order.rename(columns={'BranchId': 'BranchID'})\n",
    "    df_order['BranchID'] = df_order['BranchID'].str.strip(';')\n",
    "    return df_order"
   ]
  },
  {
   "cell_type": "markdown",
   "metadata": {},
   "source": [
    "Cleaning OrderItem.csv"
   ]
  },
  {
   "cell_type": "code",
   "execution_count": 8,
   "metadata": {},
   "outputs": [],
   "source": [
    "df_orderitem = pd.read_csv('./Dataset/OrderItem.csv',sep=\";\",low_memory=False) "
   ]
  },
  {
   "cell_type": "code",
   "execution_count": null,
   "metadata": {},
   "outputs": [],
   "source": [
    "def clean_data_orderitem(df_orderitem):\n",
    "    # Replace missing values with \"0\" in column: 'Discount'\n",
    "    df_orderitem = df_orderitem.fillna({'Discount': \"0\"})\n",
    "    # Replace all instances of \",\" with \".\" in columns: 'COGS', 'Price' and 3 other columns\n",
    "    df_orderitem['COGS'] = df_orderitem['COGS'].str.replace(\",\", \".\", case=False, regex=False)\n",
    "    df_orderitem['Price'] = df_orderitem['Price'].str.replace(\",\", \".\", case=False, regex=False)\n",
    "    df_orderitem['TaxAmount'] = df_orderitem['TaxAmount'].str.replace(\",\", \".\", case=False, regex=False)\n",
    "    df_orderitem['Discount'] = df_orderitem['Discount'].str.replace(\",\", \".\", case=False, regex=False)\n",
    "    df_orderitem['Subtotal'] = df_orderitem['Subtotal'].str.replace(\",\", \".\", case=False, regex=False)\n",
    "    # Change column type to float64 for columns: 'COGS', 'Price' and 5 other columns\n",
    "    df_orderitem = df_orderitem.astype({'COGS': 'float64', 'Price': 'float64', 'Qty': 'float64', 'TaxRate': 'float64', 'Discount': 'float64', 'TaxAmount': 'float64', 'Subtotal': 'float64'})\n",
    "    # Round columns 'Qty', 'COGS' and 5 other columns (Number of decimals: 0)\n",
    "    df_orderitem = df_orderitem.round({'Qty': 0, 'COGS': 0, 'Price': 0, 'TaxRate': 0, 'TaxAmount': 0, 'Discount': 0, 'Subtotal': 0})\n",
    "    # Change column type to int64 for columns: 'Qty', 'COGS' and 5 other columns\n",
    "    df_orderitem = df_orderitem.astype({'Qty': 'int64', 'COGS': 'int64', 'Price': 'int64', 'TaxRate': 'int64', 'TaxAmount': 'int64', 'Discount': 'int64', 'Subtotal': 'int64'})\n",
    "    df_orderitem['POSNo'] = df_orderitem['POSNo'].str.strip(';')\n",
    "    df_orderitem['ItemID'] = df_orderitem['ItemID'].str.strip(';')\n",
    "    return df_orderitem\n"
   ]
  }
 ],
 "metadata": {
  "kernelspec": {
   "display_name": "Python 3",
   "language": "python",
   "name": "python3"
  },
  "language_info": {
   "codemirror_mode": {
    "name": "ipython",
    "version": 3
   },
   "file_extension": ".py",
   "mimetype": "text/x-python",
   "name": "python",
   "nbconvert_exporter": "python",
   "pygments_lexer": "ipython3",
   "version": "3.12.2"
  }
 },
 "nbformat": 4,
 "nbformat_minor": 2
}
